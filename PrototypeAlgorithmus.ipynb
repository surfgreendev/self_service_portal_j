{
 "cells": [
  {
   "cell_type": "code",
   "execution_count": 2,
   "id": "d069f6c1",
   "metadata": {},
   "outputs": [],
   "source": [
    "import django\n",
    "import os\n",
    "os.environ[\"DJANGO_ALLOW_ASYNC_UNSAFE\"] = \"true\"\n",
    "django.setup()"
   ]
  },
  {
   "cell_type": "code",
   "execution_count": 3,
   "id": "e68ea673",
   "metadata": {},
   "outputs": [],
   "source": [
    "from self_service_portal_j.posts.models import Post\n",
    "posts = Post.objects.all()"
   ]
  },
  {
   "cell_type": "code",
   "execution_count": 4,
   "id": "4f7fab0b",
   "metadata": {},
   "outputs": [
    {
     "data": {
      "text/plain": [
       "<QuerySet [<Post: 29 - LIST EMAIL>, <Post: 28 - dfsa>, <Post: 27 - fdsafds>, <Post: 26 - gfdsa>, <Post: 25 - SEND MAIL>, <Post: 24 - JOHANNITER>, <Post: 23 - CELERY>, <Post: 22 - TISOOT>, <Post: 21 - fdsaf>, <Post: 20 - fdsafs>, <Post: 19 - fdsaf>, <Post: 18 - fdsafas>, <Post: 17 - Check>, <Post: 16 - fdsafdas>, <Post: 15 - Test mit Success MEssage>, <Post: 14 - fdsafsd>, <Post: 13 - Neu>, <Post: 12 - fdsafs>, <Post: 11 - hgfdh>, <Post: 10 - Very new post>, '...(remaining elements truncated)...']>"
      ]
     },
     "execution_count": 4,
     "metadata": {},
     "output_type": "execute_result"
    }
   ],
   "source": [
    "posts\n"
   ]
  },
  {
   "cell_type": "code",
   "execution_count": null,
   "id": "b4d6a981",
   "metadata": {},
   "outputs": [],
   "source": []
  }
 ],
 "metadata": {
  "kernelspec": {
   "display_name": "Django Shell-Plus",
   "language": "python",
   "name": "django_extensions"
  },
  "language_info": {
   "codemirror_mode": {
    "name": "ipython",
    "version": 3
   },
   "file_extension": ".py",
   "mimetype": "text/x-python",
   "name": "python",
   "nbconvert_exporter": "python",
   "pygments_lexer": "ipython3",
   "version": "3.9.13"
  }
 },
 "nbformat": 4,
 "nbformat_minor": 5
}
